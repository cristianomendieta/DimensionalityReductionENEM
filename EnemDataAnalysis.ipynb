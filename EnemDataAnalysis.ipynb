{
  "cells": [
    {
      "cell_type": "code",
      "execution_count": 1,
      "metadata": {},
      "outputs": [],
      "source": [
        "# !pip install pandas\n",
        "# !pip install -U scikit-learn==1.3.2\n",
        "# !pip install umap-learn"
      ]
    },
    {
      "cell_type": "code",
      "execution_count": 1,
      "metadata": {
        "id": "HPak-SWOvyFp"
      },
      "outputs": [
        {
          "data": {
            "text/plain": [
              "'/home/cristiano/ufpr/tcc'"
            ]
          },
          "execution_count": 1,
          "metadata": {},
          "output_type": "execute_result"
        }
      ],
      "source": [
        "import os\n",
        "import pandas as pd\n",
        "os.getcwd()"
      ]
    },
    {
      "cell_type": "code",
      "execution_count": 2,
      "metadata": {
        "colab": {
          "base_uri": "https://localhost:8080/"
        },
        "id": "LtjXDnCsu5xq",
        "outputId": "6d60ba83-4a0a-4a53-a106-2ff1955f695b"
      },
      "outputs": [
        {
          "name": "stdout",
          "output_type": "stream",
          "text": [
            "scikit-learn      1.3.2\n"
          ]
        }
      ],
      "source": [
        "!pip list | grep scikit"
      ]
    },
    {
      "cell_type": "code",
      "execution_count": 4,
      "metadata": {
        "colab": {
          "base_uri": "https://localhost:8080/"
        },
        "id": "OKyK6yadwQDI",
        "outputId": "68016a55-07ec-40c4-8e9d-5c60a95a7199"
      },
      "outputs": [],
      "source": [
        "# run on colab\n",
        "# from google.colab import drive\n",
        "# drive.mount('/content/drive')"
      ]
    },
    {
      "cell_type": "code",
      "execution_count": 3,
      "metadata": {
        "id": "vWyJI7wJwUZe"
      },
      "outputs": [],
      "source": [
        "base_path = '/home/cristiano/ufpr/tcc/data/'"
      ]
    },
    {
      "cell_type": "code",
      "execution_count": 6,
      "metadata": {
        "id": "c7n_wbksw3xj"
      },
      "outputs": [],
      "source": [
        "df_microdados = pd.read_csv(f'{base_path}/MICRODADOS_ENEM_2022.csv', sep=';', encoding='ISO-8859-1')\n",
        "# df_itens_prova = pd.read_csv(f'{base_path}/ITENS_PROVA_2022.csv', sep=';', encoding='ISO-8859-1')\n",
        "# df_quest_hab = pd.read_csv(f'{base_path}/QUEST_HAB_ESTUDO.csv', sep=';', encoding='ISO-8859-1')"
      ]
    },
    {
      "cell_type": "code",
      "execution_count": 6,
      "metadata": {
        "id": "LNB3eujqv99n"
      },
      "outputs": [],
      "source": [
        "# df_microdados = df_microdados_original.copy()"
      ]
    },
    {
      "cell_type": "code",
      "execution_count": 7,
      "metadata": {
        "colab": {
          "base_uri": "https://localhost:8080/"
        },
        "id": "ctmK2lBeAqB-",
        "outputId": "e61be282-93d3-40ea-9368-9247af75041b"
      },
      "outputs": [
        {
          "data": {
            "text/plain": [
              "(3476105, 76)"
            ]
          },
          "execution_count": 7,
          "metadata": {},
          "output_type": "execute_result"
        }
      ],
      "source": [
        "df_microdados.shape"
      ]
    },
    {
      "cell_type": "code",
      "execution_count": 8,
      "metadata": {
        "colab": {
          "base_uri": "https://localhost:8080/"
        },
        "id": "DujqgTq2Bmqt",
        "outputId": "c0177403-d66e-4d23-a0f1-ec7cd77d2429"
      },
      "outputs": [
        {
          "name": "stdout",
          "output_type": "stream",
          "text": [
            "TP_ENSINO                 2213361\n",
            "CO_MUNICIPIO_ESC          2524161\n",
            "NO_MUNICIPIO_ESC          2524161\n",
            "CO_UF_ESC                 2524161\n",
            "SG_UF_ESC                 2524161\n",
            "TP_DEPENDENCIA_ADM_ESC    2524161\n",
            "TP_LOCALIZACAO_ESC        2524161\n",
            "TP_SIT_FUNC_ESC           2524161\n",
            "CO_PROVA_CN               1120710\n",
            "CO_PROVA_CH                982663\n",
            "CO_PROVA_LC                982663\n",
            "CO_PROVA_MT               1120710\n",
            "NU_NOTA_CN                1120710\n",
            "NU_NOTA_CH                 982663\n",
            "NU_NOTA_LC                 982663\n",
            "NU_NOTA_MT                1120710\n",
            "TX_RESPOSTAS_CN           1120710\n",
            "TX_RESPOSTAS_CH            982663\n",
            "TX_RESPOSTAS_LC            982663\n",
            "TX_RESPOSTAS_MT           1120710\n",
            "TX_GABARITO_CN            1120710\n",
            "TX_GABARITO_CH             982663\n",
            "TX_GABARITO_LC             982663\n",
            "TX_GABARITO_MT            1120710\n",
            "TP_STATUS_REDACAO          982663\n",
            "NU_NOTA_COMP1              982663\n",
            "NU_NOTA_COMP2              982663\n",
            "NU_NOTA_COMP3              982663\n",
            "NU_NOTA_COMP4              982663\n",
            "NU_NOTA_COMP5              982663\n",
            "NU_NOTA_REDACAO            982663\n",
            "dtype: int64\n"
          ]
        }
      ],
      "source": [
        "import pandas as pd\n",
        "\n",
        "# cntagem de valores nulos por coluna\n",
        "valores_nulos_por_coluna = df_microdados.isnull().sum()\n",
        "\n",
        "# Filtrar apenas as colunas com valores nulos\n",
        "colunas_com_valores_nulos = valores_nulos_por_coluna[valores_nulos_por_coluna > 0]\n",
        "\n",
        "# Exibindo os resultados\n",
        "print(colunas_com_valores_nulos)"
      ]
    },
    {
      "cell_type": "code",
      "execution_count": 9,
      "metadata": {
        "colab": {
          "base_uri": "https://localhost:8080/",
          "height": 161
        },
        "id": "43uKW-fZxe6S",
        "outputId": "165f798d-09b4-4f78-c69f-27ced5c8fb57"
      },
      "outputs": [
        {
          "data": {
            "text/html": [
              "<div>\n",
              "<style scoped>\n",
              "    .dataframe tbody tr th:only-of-type {\n",
              "        vertical-align: middle;\n",
              "    }\n",
              "\n",
              "    .dataframe tbody tr th {\n",
              "        vertical-align: top;\n",
              "    }\n",
              "\n",
              "    .dataframe thead th {\n",
              "        text-align: right;\n",
              "    }\n",
              "</style>\n",
              "<table border=\"1\" class=\"dataframe\">\n",
              "  <thead>\n",
              "    <tr style=\"text-align: right;\">\n",
              "      <th></th>\n",
              "      <th>NU_INSCRICAO</th>\n",
              "      <th>NU_ANO</th>\n",
              "      <th>TP_FAIXA_ETARIA</th>\n",
              "      <th>TP_SEXO</th>\n",
              "      <th>TP_ESTADO_CIVIL</th>\n",
              "      <th>TP_COR_RACA</th>\n",
              "      <th>TP_NACIONALIDADE</th>\n",
              "      <th>TP_ST_CONCLUSAO</th>\n",
              "      <th>TP_ANO_CONCLUIU</th>\n",
              "      <th>TP_ESCOLA</th>\n",
              "      <th>...</th>\n",
              "      <th>Q016</th>\n",
              "      <th>Q017</th>\n",
              "      <th>Q018</th>\n",
              "      <th>Q019</th>\n",
              "      <th>Q020</th>\n",
              "      <th>Q021</th>\n",
              "      <th>Q022</th>\n",
              "      <th>Q023</th>\n",
              "      <th>Q024</th>\n",
              "      <th>Q025</th>\n",
              "    </tr>\n",
              "  </thead>\n",
              "  <tbody>\n",
              "    <tr>\n",
              "      <th>0</th>\n",
              "      <td>210057943671</td>\n",
              "      <td>2022</td>\n",
              "      <td>14</td>\n",
              "      <td>M</td>\n",
              "      <td>2</td>\n",
              "      <td>2</td>\n",
              "      <td>1</td>\n",
              "      <td>1</td>\n",
              "      <td>2</td>\n",
              "      <td>1</td>\n",
              "      <td>...</td>\n",
              "      <td>B</td>\n",
              "      <td>A</td>\n",
              "      <td>A</td>\n",
              "      <td>A</td>\n",
              "      <td>A</td>\n",
              "      <td>A</td>\n",
              "      <td>A</td>\n",
              "      <td>A</td>\n",
              "      <td>A</td>\n",
              "      <td>A</td>\n",
              "    </tr>\n",
              "    <tr>\n",
              "      <th>1</th>\n",
              "      <td>210057516120</td>\n",
              "      <td>2022</td>\n",
              "      <td>14</td>\n",
              "      <td>M</td>\n",
              "      <td>2</td>\n",
              "      <td>1</td>\n",
              "      <td>1</td>\n",
              "      <td>1</td>\n",
              "      <td>16</td>\n",
              "      <td>1</td>\n",
              "      <td>...</td>\n",
              "      <td>E</td>\n",
              "      <td>E</td>\n",
              "      <td>B</td>\n",
              "      <td>E</td>\n",
              "      <td>B</td>\n",
              "      <td>B</td>\n",
              "      <td>E</td>\n",
              "      <td>B</td>\n",
              "      <td>E</td>\n",
              "      <td>B</td>\n",
              "    </tr>\n",
              "  </tbody>\n",
              "</table>\n",
              "<p>2 rows × 76 columns</p>\n",
              "</div>"
            ],
            "text/plain": [
              "   NU_INSCRICAO  NU_ANO  TP_FAIXA_ETARIA TP_SEXO  TP_ESTADO_CIVIL  \\\n",
              "0  210057943671    2022               14       M                2   \n",
              "1  210057516120    2022               14       M                2   \n",
              "\n",
              "   TP_COR_RACA  TP_NACIONALIDADE  TP_ST_CONCLUSAO  TP_ANO_CONCLUIU  TP_ESCOLA  \\\n",
              "0            2                 1                1                2          1   \n",
              "1            1                 1                1               16          1   \n",
              "\n",
              "   ...  Q016  Q017  Q018 Q019  Q020 Q021  Q022  Q023  Q024  Q025  \n",
              "0  ...     B     A     A    A     A    A     A     A     A     A  \n",
              "1  ...     E     E     B    E     B    B     E     B     E     B  \n",
              "\n",
              "[2 rows x 76 columns]"
            ]
          },
          "execution_count": 9,
          "metadata": {},
          "output_type": "execute_result"
        }
      ],
      "source": [
        "df_microdados.head(2)"
      ]
    },
    {
      "cell_type": "code",
      "execution_count": 10,
      "metadata": {
        "id": "BbyukLMOyt9b"
      },
      "outputs": [],
      "source": [
        "# print(f'dimensão microdados: {df_microdados.shape}\\ndimensão itens prova{df_itens_prova.shape}\\ndimensão quest hab {df_quest_hab.shape}')"
      ]
    },
    {
      "cell_type": "code",
      "execution_count": 10,
      "metadata": {
        "colab": {
          "base_uri": "https://localhost:8080/"
        },
        "id": "j0oJuJbRztTK",
        "outputId": "d52f8e9a-2c64-4de8-81a7-e1e186664301"
      },
      "outputs": [
        {
          "data": {
            "text/plain": [
              "Index(['NU_INSCRICAO', 'NU_ANO', 'TP_FAIXA_ETARIA', 'TP_SEXO',\n",
              "       'TP_ESTADO_CIVIL', 'TP_COR_RACA', 'TP_NACIONALIDADE', 'TP_ST_CONCLUSAO',\n",
              "       'TP_ANO_CONCLUIU', 'TP_ESCOLA', 'TP_ENSINO', 'IN_TREINEIRO',\n",
              "       'CO_MUNICIPIO_ESC', 'NO_MUNICIPIO_ESC', 'CO_UF_ESC', 'SG_UF_ESC',\n",
              "       'TP_DEPENDENCIA_ADM_ESC', 'TP_LOCALIZACAO_ESC', 'TP_SIT_FUNC_ESC',\n",
              "       'CO_MUNICIPIO_PROVA', 'NO_MUNICIPIO_PROVA', 'CO_UF_PROVA',\n",
              "       'SG_UF_PROVA', 'TP_PRESENCA_CN', 'TP_PRESENCA_CH', 'TP_PRESENCA_LC',\n",
              "       'TP_PRESENCA_MT', 'CO_PROVA_CN', 'CO_PROVA_CH', 'CO_PROVA_LC',\n",
              "       'CO_PROVA_MT', 'NU_NOTA_CN', 'NU_NOTA_CH', 'NU_NOTA_LC', 'NU_NOTA_MT',\n",
              "       'TX_RESPOSTAS_CN', 'TX_RESPOSTAS_CH', 'TX_RESPOSTAS_LC',\n",
              "       'TX_RESPOSTAS_MT', 'TP_LINGUA', 'TX_GABARITO_CN', 'TX_GABARITO_CH',\n",
              "       'TX_GABARITO_LC', 'TX_GABARITO_MT', 'TP_STATUS_REDACAO',\n",
              "       'NU_NOTA_COMP1', 'NU_NOTA_COMP2', 'NU_NOTA_COMP3', 'NU_NOTA_COMP4',\n",
              "       'NU_NOTA_COMP5', 'NU_NOTA_REDACAO', 'Q001', 'Q002', 'Q003', 'Q004',\n",
              "       'Q005', 'Q006', 'Q007', 'Q008', 'Q009', 'Q010', 'Q011', 'Q012', 'Q013',\n",
              "       'Q014', 'Q015', 'Q016', 'Q017', 'Q018', 'Q019', 'Q020', 'Q021', 'Q022',\n",
              "       'Q023', 'Q024', 'Q025'],\n",
              "      dtype='object')"
            ]
          },
          "execution_count": 10,
          "metadata": {},
          "output_type": "execute_result"
        }
      ],
      "source": [
        "df_microdados.columns"
      ]
    },
    {
      "cell_type": "markdown",
      "metadata": {
        "id": "qqutIdRijglM"
      },
      "source": [
        "Colunas\n",
        "- NU_INSCRICAO: id\n",
        "- NU_ANO -> remover\n",
        "- TP_FAIXA_ETARIA: faixa etária(1 a 20)\n",
        "- TP_SEXO -> M OU F\n",
        "- TP_ESTADO_CIVIL: 0 A 4\n",
        "- TP_COR_RACA: 0 A 6\n",
        "- TP_NACIONALIDADE: 0 A 4\n",
        "- TP_ST_CONCLUSAO: status conclusão ensino medio(1 a 4)\n",
        "- TP_ANO_CONCLUIU: 0 A 16\n",
        "- TP_ESCOLA: 1 a 3(possível target)\n",
        "- TP_ENSINO: 1 OU 2\n",
        "- IN_TREINEIRO: 1 OU 0\n",
        "- CO_MUNICIPIO_ESC: codigo municipio escola\n",
        "- NO_MUNICIPIO_ESC: Nome\n",
        "- CO_UF_ESC: codigo da unidade da federação da escola\n",
        "- SG_UF_ESC: sigla uf da escola\n",
        "- TP_DEPENDENCIA_ADM_ESCOLA: 1 a 4\n",
        "- TP_LOCALIZACAO_ESC: 1 ou 2(urbana ou rural)\n",
        "- TP_SIT_FUNC_ESC: situacao de funcionamento(1 a 4)\n",
        "- CO_MUNICIPIO_PROVA: código da cidade onde a prova foi aplicada\n",
        "- NO_MUNICIPIO_PROVA: nome\n",
        "- CO_UF_PROVA: codigo uf\n",
        "- SG_UF_PROVA: sigla da uf\n",
        "- TP_PRESENCA_CN\n",
        "- TP_PRESENCA_CH\n",
        "- TP_PRESENCA_LC\n",
        "- TP_PRESENCA_MT: 0 A 2\n",
        "- CO_PROVA_CN\n",
        "- CO_PROVA_CH\n",
        "- CO_PROVA_LC\n",
        "- CO_PROVA_MT: código das provas(já é numérico)\n",
        "- NU_NOTA_CN\n",
        "- NU_NOTA_CH\n",
        "- NU_NOTA_LC\n",
        "- NU_NOTA_MT: notas(númerica)  \n",
        "- TX_RESPOSTAS_CN\n",
        "- TX_RESPOSTAS_CH\n",
        "- TX_RESPOSTAS_LC\n",
        "- TX_RESPOSTAS_MT: vetores com as respostas(não usar)\n",
        "\n",
        "- TP_LINGUA: ingles ou espanhol(0 ou 1)\n",
        "\n",
        "- TX_GABARITO_CN\n",
        "- TX_GABARITO_CH\n",
        "- TX_GABARITO_LC\n",
        "- TX_GABARITO_MT: vetores com o gabarito(não usar)\n",
        "\n",
        "- TP_STATUS_REDACAO: status redação(1 a 9)\n",
        "\n",
        "- NU_NOTA_COMP1\n",
        "- NU_NOTA_COMP2\n",
        "- NU_NOTA_COMP3\n",
        "- NU_NOTA_COMP4\n",
        "- NU_NOTA_COMP5: notas de competências da redação\n",
        "\n",
        "- NU_NOTA_REDACAO: nota redaçao\n",
        "\n",
        "- questões socieconômicas: alternativas alfanuméricas\n",
        "##### target inicial -> Q006"
      ]
    },
    {
      "cell_type": "code",
      "execution_count": 11,
      "metadata": {
        "colab": {
          "base_uri": "https://localhost:8080/"
        },
        "id": "2C8Yd7of5KZb",
        "outputId": "cc51999c-eea8-4206-c126-e2222f5c1136"
      },
      "outputs": [
        {
          "data": {
            "text/plain": [
              "(3476105, 76)"
            ]
          },
          "execution_count": 11,
          "metadata": {},
          "output_type": "execute_result"
        }
      ],
      "source": [
        "df_microdados.shape"
      ]
    },
    {
      "cell_type": "code",
      "execution_count": 12,
      "metadata": {
        "id": "tqCDGJ7l5YBj"
      },
      "outputs": [],
      "source": [
        "descartar = [\n",
        "    'NU_INSCRICAO', \n",
        "    'NU_ANO', \n",
        "    'TX_RESPOSTAS_CN', \n",
        "    'TX_RESPOSTAS_CH', \n",
        "    'TX_RESPOSTAS_LC',\n",
        "    'TX_RESPOSTAS_MT',\n",
        "    'TX_GABARITO_CN', \n",
        "    'TX_GABARITO_CH',\n",
        "    'TX_GABARITO_LC', \n",
        "    'TX_GABARITO_MT', \n",
        "    'TP_ENSINO',              \n",
        "    'CO_MUNICIPIO_ESC',       \n",
        "    'NO_MUNICIPIO_ESC',       \n",
        "    'CO_UF_ESC',              \n",
        "    'SG_UF_ESC',              \n",
        "    'TP_DEPENDENCIA_ADM_ESC', \n",
        "    'TP_LOCALIZACAO_ESC',     \n",
        "    'TP_SIT_FUNC_ESC',        \n",
        "    'CO_PROVA_CN',            \n",
        "    'CO_PROVA_CH',            \n",
        "    'CO_PROVA_LC',            \n",
        "    'CO_PROVA_MT'\n",
        "]\n"
      ]
    },
    {
      "cell_type": "code",
      "execution_count": 13,
      "metadata": {},
      "outputs": [],
      "source": [
        "zerar_colunas = [\"NU_NOTA_CN\", \"NU_NOTA_CH\", \"NU_NOTA_LC\", \"NU_NOTA_MT\", \"NU_NOTA_REDACAO\", \"NU_NOTA_COMP1\", \"NU_NOTA_COMP2\", \"NU_NOTA_COMP3\", \"NU_NOTA_COMP4\", \"NU_NOTA_COMP5\", \"TP_STATUS_REDACAO\"]"
      ]
    },
    {
      "cell_type": "code",
      "execution_count": 14,
      "metadata": {},
      "outputs": [],
      "source": [
        "df_microdados = df_microdados.drop(columns=descartar)"
      ]
    },
    {
      "cell_type": "code",
      "execution_count": 15,
      "metadata": {},
      "outputs": [],
      "source": [
        "df_microdados[zerar_colunas] = df_microdados[zerar_colunas].fillna(0)"
      ]
    },
    {
      "cell_type": "code",
      "execution_count": 19,
      "metadata": {},
      "outputs": [],
      "source": [
        "# df_exlui = df_microdados.dropna()\n",
        "# df_microdados.shape[0] == df_exlui.shape[0]"
      ]
    },
    {
      "cell_type": "code",
      "execution_count": 20,
      "metadata": {
        "colab": {
          "base_uri": "https://localhost:8080/"
        },
        "id": "TpLoH0dSDoJJ",
        "outputId": "4061c567-528d-4b08-d512-20b0264857c4"
      },
      "outputs": [],
      "source": [
        "# proporção de dados que contém algum dado nulo (ANTIGO)\n",
        "# 681900 / 3476105"
      ]
    },
    {
      "cell_type": "code",
      "execution_count": 16,
      "metadata": {
        "colab": {
          "base_uri": "https://localhost:8080/"
        },
        "id": "EdOo7T5RuAZR",
        "outputId": "2c7469f8-a687-4690-cfff-d97d7c4a9853"
      },
      "outputs": [
        {
          "data": {
            "text/plain": [
              "(3476105, 54)"
            ]
          },
          "execution_count": 16,
          "metadata": {},
          "output_type": "execute_result"
        }
      ],
      "source": [
        "df_microdados.shape"
      ]
    },
    {
      "cell_type": "code",
      "execution_count": 17,
      "metadata": {},
      "outputs": [],
      "source": [
        "df_microdados.reset_index(drop=True, inplace=True)"
      ]
    },
    {
      "cell_type": "code",
      "execution_count": 18,
      "metadata": {
        "id": "8PN-6oanu413"
      },
      "outputs": [],
      "source": [
        "df_microdados.rename(columns={'Q006': 'faixa_renda_familiar'}, inplace=True)"
      ]
    },
    {
      "cell_type": "code",
      "execution_count": 19,
      "metadata": {},
      "outputs": [],
      "source": [
        "# !pip install pyarrow"
      ]
    },
    {
      "cell_type": "code",
      "execution_count": 20,
      "metadata": {},
      "outputs": [],
      "source": [
        "df_microdados.to_parquet('./data/data_prepared_enem_2022.parquet')"
      ]
    },
    {
      "cell_type": "markdown",
      "metadata": {},
      "source": [
        "#### UTILZAR DADOS JÁ PREPARADOS"
      ]
    },
    {
      "cell_type": "code",
      "execution_count": 4,
      "metadata": {},
      "outputs": [],
      "source": [
        "df_microdados = pd.read_parquet('./data/data_prepared_enem_2022.parquet')"
      ]
    },
    {
      "cell_type": "code",
      "execution_count": 5,
      "metadata": {
        "id": "5wfijRXxuQHb"
      },
      "outputs": [],
      "source": [
        "from sklearn.model_selection import train_test_split\n",
        "\n",
        "X = df_microdados.drop('faixa_renda_familiar', axis=1)\n",
        "y = df_microdados['faixa_renda_familiar']"
      ]
    },
    {
      "cell_type": "code",
      "execution_count": 6,
      "metadata": {
        "id": "q3GuvnNmviRc"
      },
      "outputs": [],
      "source": [
        "# X.columns.to_list()"
      ]
    },
    {
      "cell_type": "code",
      "execution_count": 7,
      "metadata": {
        "id": "rp-nEoYjrgIG"
      },
      "outputs": [],
      "source": [
        "del df_microdados"
      ]
    },
    {
      "cell_type": "code",
      "execution_count": 8,
      "metadata": {
        "id": "BeVPK4V3yJfp"
      },
      "outputs": [],
      "source": [
        "numeric_cols = [\n",
        "    \"TP_FAIXA_ETARIA\",\n",
        "    \"TP_ESTADO_CIVIL\",\n",
        "    \"TP_COR_RACA\",\n",
        "    \"TP_NACIONALIDADE\",\n",
        "    \"TP_ST_CONCLUSAO\",\n",
        "    \"TP_ANO_CONCLUIU\",\n",
        "    \"TP_ESCOLA\",\n",
        "    \"IN_TREINEIRO\",\n",
        "    \"CO_MUNICIPIO_PROVA\",\n",
        "    \"CO_UF_PROVA\",\n",
        "    \"TP_PRESENCA_CN\",\n",
        "    \"TP_PRESENCA_CH\",\n",
        "    \"TP_PRESENCA_LC\",\n",
        "    \"TP_PRESENCA_MT\",\n",
        "    \"NU_NOTA_CN\",\n",
        "    \"NU_NOTA_CH\",\n",
        "    \"NU_NOTA_LC\",\n",
        "    \"NU_NOTA_MT\",\n",
        "    \"TP_LINGUA\",\n",
        "    \"NU_NOTA_REDACAO\",\n",
        "    'NU_NOTA_COMP1',\n",
        "    'NU_NOTA_COMP2',\n",
        "    'NU_NOTA_COMP3',\n",
        "    'NU_NOTA_COMP4',\n",
        "    'NU_NOTA_COMP5',\n",
        "    \"Q005\"\n",
        "]\n",
        "\n",
        "categorical_cols = [\n",
        "    \"TP_SEXO\",\n",
        "    \"Q001\",\n",
        "    \"Q002\",\n",
        "    \"Q003\",\n",
        "    \"Q004\",\n",
        "    \"Q007\",\n",
        "    \"Q008\",\n",
        "    \"Q009\",\n",
        "    \"Q010\",\n",
        "    \"Q011\",\n",
        "    \"Q012\",\n",
        "    \"Q013\",\n",
        "    \"Q014\",\n",
        "    \"Q015\",\n",
        "    \"Q016\",\n",
        "    \"Q017\",\n",
        "    \"Q018\",\n",
        "    \"Q019\",\n",
        "    \"Q020\",\n",
        "    \"Q021\",\n",
        "    \"Q022\",\n",
        "    \"Q023\",\n",
        "    \"Q024\",\n",
        "    \"Q025\",\n",
        "    \"NO_MUNICIPIO_PROVA\",\n",
        "    \"TP_STATUS_REDACAO\",\n",
        "    \"SG_UF_PROVA\"\n",
        "]\n"
      ]
    },
    {
      "cell_type": "code",
      "execution_count": 9,
      "metadata": {},
      "outputs": [
        {
          "data": {
            "text/plain": [
              "53"
            ]
          },
          "execution_count": 9,
          "metadata": {},
          "output_type": "execute_result"
        }
      ],
      "source": [
        "len(numeric_cols + categorical_cols)"
      ]
    },
    {
      "cell_type": "code",
      "execution_count": 10,
      "metadata": {},
      "outputs": [
        {
          "data": {
            "text/plain": [
              "set()"
            ]
          },
          "execution_count": 10,
          "metadata": {},
          "output_type": "execute_result"
        }
      ],
      "source": [
        "set(list(X.columns)) - set(numeric_cols + categorical_cols)"
      ]
    },
    {
      "cell_type": "code",
      "execution_count": 11,
      "metadata": {
        "id": "BkFwmafTweu1"
      },
      "outputs": [],
      "source": [
        "# all_columns = X.columns.to_list()"
      ]
    },
    {
      "cell_type": "code",
      "execution_count": 12,
      "metadata": {
        "colab": {
          "base_uri": "https://localhost:8080/"
        },
        "id": "LbbkZcWWyvAG",
        "outputId": "d342594a-bfdb-4959-874b-cbfb7a6b88d7"
      },
      "outputs": [
        {
          "data": {
            "text/plain": [
              "(3476105, 53)"
            ]
          },
          "execution_count": 12,
          "metadata": {},
          "output_type": "execute_result"
        }
      ],
      "source": [
        "X.shape"
      ]
    },
    {
      "cell_type": "code",
      "execution_count": 13,
      "metadata": {
        "colab": {
          "base_uri": "https://localhost:8080/"
        },
        "id": "hX27sx0t1jcf",
        "outputId": "0cb2a8a2-c103-4eb0-a86b-53650f5b3480"
      },
      "outputs": [
        {
          "data": {
            "text/plain": [
              "0"
            ]
          },
          "execution_count": 13,
          "metadata": {},
          "output_type": "execute_result"
        }
      ],
      "source": [
        "y.isnull().sum()"
      ]
    },
    {
      "cell_type": "code",
      "execution_count": 29,
      "metadata": {
        "colab": {
          "base_uri": "https://localhost:8080/"
        },
        "id": "AvIm9zLTz25O",
        "outputId": "add8d5a2-f2a6-49ec-ee13-cf4155f3d6c4"
      },
      "outputs": [
        {
          "data": {
            "text/plain": [
              "(3476105, 53)"
            ]
          },
          "execution_count": 29,
          "metadata": {},
          "output_type": "execute_result"
        }
      ],
      "source": [
        "X.shape"
      ]
    },
    {
      "cell_type": "markdown",
      "metadata": {
        "id": "fWa-eug73I11"
      },
      "source": [
        "### Pré-processamento dos dados"
      ]
    },
    {
      "cell_type": "code",
      "execution_count": 14,
      "metadata": {
        "id": "kt4cNLiR23i_"
      },
      "outputs": [],
      "source": [
        "X_train, X_test, y_train, y_test = train_test_split(X, y, test_size=0.2, random_state=42)"
      ]
    },
    {
      "cell_type": "code",
      "execution_count": 15,
      "metadata": {},
      "outputs": [
        {
          "data": {
            "text/plain": [
              "(2780884, 53)"
            ]
          },
          "execution_count": 15,
          "metadata": {},
          "output_type": "execute_result"
        }
      ],
      "source": [
        "X_train.shape"
      ]
    },
    {
      "cell_type": "code",
      "execution_count": 16,
      "metadata": {},
      "outputs": [],
      "source": [
        "#y_test"
      ]
    },
    {
      "cell_type": "code",
      "execution_count": 17,
      "metadata": {},
      "outputs": [],
      "source": [
        "# X_train.to_parquet('./use_data/X_train.parquet')"
      ]
    },
    {
      "cell_type": "code",
      "execution_count": 18,
      "metadata": {
        "id": "qXVymDwMbZAX"
      },
      "outputs": [
        {
          "name": "stderr",
          "output_type": "stream",
          "text": [
            "/home/cristiano/envs/tcc/lib/python3.11/site-packages/tqdm/auto.py:21: TqdmWarning: IProgress not found. Please update jupyter and ipywidgets. See https://ipywidgets.readthedocs.io/en/stable/user_install.html\n",
            "  from .autonotebook import tqdm as notebook_tqdm\n"
          ]
        }
      ],
      "source": [
        "import pandas as pd\n",
        "from sklearn.compose import ColumnTransformer\n",
        "from sklearn.decomposition import PCA, TruncatedSVD, FastICA, KernelPCA\n",
        "from sklearn.manifold import TSNE\n",
        "from umap import UMAP\n",
        "from sklearn.pipeline import Pipeline\n",
        "from sklearn.preprocessing import MinMaxScaler, OrdinalEncoder\n",
        "from sklearn.model_selection import train_test_split\n",
        "from sklearn.metrics import mean_squared_error\n",
        "\n",
        "\n",
        "def generate_pipeline(method, n_components=None):\n",
        "    numeric_transformer = Pipeline(steps=[\n",
        "        ('scaler', MinMaxScaler())\n",
        "    ])\n",
        "\n",
        "    categorical_transformer = Pipeline(steps=[\n",
        "        ('encoder', OrdinalEncoder())\n",
        "    ])\n",
        "\n",
        "    preprocessor = ColumnTransformer(\n",
        "        transformers=[\n",
        "            ('num', numeric_transformer, numeric_cols),\n",
        "            ('cat', categorical_transformer, categorical_cols),\n",
        "        ])\n",
        "\n",
        "    if method == 'nan':\n",
        "        return Pipeline(steps=[\n",
        "            ('preprocessor', preprocessor)\n",
        "        ])\n",
        "\n",
        "    elif method == 'pca':\n",
        "        return Pipeline(steps=[\n",
        "            ('preprocessor', preprocessor),\n",
        "            ('reduction_method', PCA(n_components=n_components))\n",
        "        ])\n",
        "\n",
        "    elif method == 'svd':\n",
        "        return Pipeline(steps=[\n",
        "            ('preprocessor', preprocessor),\n",
        "            ('reduction_method', TruncatedSVD(n_components=n_components))\n",
        "        ])\n",
        "\n",
        "    elif method == 'ica':\n",
        "        return Pipeline(steps=[\n",
        "            ('preprocessor', preprocessor),\n",
        "            ('reduction_method', FastICA(n_components=n_components))\n",
        "        ])\n",
        "\n",
        "    ### não será utilizado pois não é eficiente para um conjunto de dados com muitas linhas como é o nosso caso, no algoritmo do kpca a dimensionalidade é aumentada\n",
        "    ### e nesse caso como temos mais de 3 milhões de linhas, o algoritmo não é eficiente\n",
        "    elif method == 'kernel_pca':\n",
        "        return Pipeline(steps=[\n",
        "            ('preprocessor', preprocessor),\n",
        "            ('reduction_method', KernelPCA(n_components=n_components, kernel='rbf', gamma=10, alpha=0.1))\n",
        "        ])\n",
        "\n",
        "    elif method == 'tsne':\n",
        "        return Pipeline(steps=[\n",
        "            ('preprocessor', preprocessor),\n",
        "            ('pre_tsne', PCA(n_components=5)),\n",
        "            ('reduction_method', TSNE(n_components=n_components))\n",
        "        ])\n",
        "\n",
        "    elif method == 'umap':\n",
        "        return Pipeline(steps=[\n",
        "            ('preprocessor', preprocessor),\n",
        "            ('reduction_method', UMAP(n_components=n_components))\n",
        "        ])"
      ]
    },
    {
      "cell_type": "markdown",
      "metadata": {
        "id": "dhINsER-3Ux_"
      },
      "source": [
        "#### Resultados Redução de dimensionalidade"
      ]
    },
    {
      "cell_type": "code",
      "execution_count": 19,
      "metadata": {
        "id": "HQd-CK5v5Snq"
      },
      "outputs": [],
      "source": [
        "import numpy as np\n",
        "def get_preserved_variance_ratio(X, X_transformed):\n",
        "    # Calcula a variância total dos dados originais\n",
        "    total_variance = np.var(X, axis=0).sum()\n",
        "\n",
        "    # Calcula a variância após a redução de dimensionalidade\n",
        "    reduced_variance = np.var(X_transformed, axis=0).sum()\n",
        "\n",
        "    # Calcula a proporção da variância preservada\n",
        "    preserved_variance_ratio = reduced_variance / total_variance\n",
        "\n",
        "    return preserved_variance_ratio\n"
      ]
    },
    {
      "cell_type": "code",
      "execution_count": 20,
      "metadata": {
        "id": "zuL950R4g0AN"
      },
      "outputs": [],
      "source": [
        "import pandas as pd\n",
        "import gc\n",
        "import time\n",
        "def get_dimension_reduction_results(list_methods, n_components_list, X_train):\n",
        "    results = []\n",
        "\n",
        "    for method in list_methods:\n",
        "        for n in n_components_list:\n",
        "            print(f\"Method: {method} - n_components: {n}\")\n",
        "            # dr is short for dimensionality reduction\n",
        "            pipeline_dr = generate_pipeline(method, n)\n",
        "            pipeline_without_dr = generate_pipeline('nan')\n",
        "\n",
        "            start_time = time.time()\n",
        "            \n",
        "            X_train_transformed_dr = pipeline_dr.fit_transform(X_train)\n",
        "\n",
        "            end_time = time.time()\n",
        "            execution_time = end_time - start_time\n",
        "\n",
        "            print(f\"Execution time: {execution_time} seconds\")\n",
        "\n",
        "            X_train_transformed = pipeline_without_dr.fit_transform(X_train)\n",
        "\n",
        "            reduction_method_mse = None\n",
        "            if method != 'tsne':\n",
        "\n",
        "                X_restored = pipeline_dr.named_steps['reduction_method'].inverse_transform(X_train_transformed_dr)\n",
        "\n",
        "                reduction_method_mse = mean_squared_error(X_train_transformed, X_restored)\n",
        "\n",
        "            preserved_variance_ratio = get_preserved_variance_ratio(X_train_transformed, X_train_transformed_dr)\n",
        "        \n",
        "            # save X_train_transformed_dr as parquet\n",
        "            X_train_transformed_dr_df = pd.DataFrame(X_train_transformed_dr)\n",
        "\n",
        "            results.append({\n",
        "                'Method': method,\n",
        "                'n_components': n,\n",
        "                'Preserved Variance Ratio': preserved_variance_ratio,\n",
        "                'MSE': reduction_method_mse,\n",
        "                'time': execution_time\n",
        "            })\n",
        "\n",
        "            del pipeline_dr\n",
        "            del pipeline_without_dr\n",
        "            del X_train_transformed_dr\n",
        "            del X_train_transformed\n",
        "            del X_restored\n",
        "            gc.collect()\n",
        "\n",
        "    # Convertendo a lista de dicionários em um DataFrame\n",
        "    results_df = pd.DataFrame(results)\n",
        "\n",
        "    return results_df"
      ]
    },
    {
      "cell_type": "code",
      "execution_count": 39,
      "metadata": {
        "id": "uUhARmrSeVOU"
      },
      "outputs": [],
      "source": [
        "# kernel PCA deu ruim, temos que ver o que aconteceu\n",
        "list_linear_methods = [\"pca\", \"svd\", \"ica\"]\n",
        "n_components_list = [2, 3, 5, 10, 20, 50]"
      ]
    },
    {
      "cell_type": "code",
      "execution_count": 36,
      "metadata": {},
      "outputs": [
        {
          "data": {
            "text/plain": [
              "28472"
            ]
          },
          "execution_count": 36,
          "metadata": {},
          "output_type": "execute_result"
        }
      ],
      "source": [
        "gc.collect()"
      ]
    },
    {
      "cell_type": "code",
      "execution_count": null,
      "metadata": {},
      "outputs": [],
      "source": [
        "df_results_linear_methods = get_dimension_reduction_results(list_linear_methods, n_components_list, X_train)"
      ]
    },
    {
      "cell_type": "code",
      "execution_count": 32,
      "metadata": {},
      "outputs": [],
      "source": [
        "# !pip install pyarrow"
      ]
    },
    {
      "cell_type": "code",
      "execution_count": 32,
      "metadata": {},
      "outputs": [],
      "source": [
        "df = pd.read_parquet('/home/cristiano/tcc/data/df_results_linear_methods.parquet')"
      ]
    },
    {
      "cell_type": "code",
      "execution_count": 34,
      "metadata": {},
      "outputs": [],
      "source": [
        "# df"
      ]
    },
    {
      "cell_type": "code",
      "execution_count": 33,
      "metadata": {},
      "outputs": [],
      "source": [
        "df_results_linear_methods.to_parquet('/home/cristiano/tcc/data/df_results_linear_methods.parquet')"
      ]
    },
    {
      "cell_type": "code",
      "execution_count": 34,
      "metadata": {
        "colab": {
          "base_uri": "https://localhost:8080/"
        },
        "id": "G1hS13mUSO4D",
        "outputId": "061befb4-7766-439b-ceac-0919958b567d"
      },
      "outputs": [
        {
          "data": {
            "text/plain": [
              "1176"
            ]
          },
          "execution_count": 34,
          "metadata": {},
          "output_type": "execute_result"
        }
      ],
      "source": [
        "gc.collect()"
      ]
    },
    {
      "cell_type": "code",
      "execution_count": 30,
      "metadata": {},
      "outputs": [],
      "source": [
        "tsne = TSNE(n_components=2)"
      ]
    },
    {
      "cell_type": "code",
      "execution_count": 31,
      "metadata": {},
      "outputs": [],
      "source": [
        "umap = UMAP(n_components=2)"
      ]
    },
    {
      "cell_type": "code",
      "execution_count": null,
      "metadata": {},
      "outputs": [],
      "source": [
        "non_linear_methods = [\"tsne\"]\n",
        "n_components_list = [2, 3]\n",
        "\n",
        "df_results_non_linear_methods = get_dimension_reduction_results(non_linear_methods, n_components_list, X_train)"
      ]
    },
    {
      "cell_type": "code",
      "execution_count": null,
      "metadata": {},
      "outputs": [],
      "source": [
        "df_results_non_linear_methods.to_parquet('/home/cristiano/tcc/data/df_results_non_linear_tsne.parquet')"
      ]
    },
    {
      "cell_type": "code",
      "execution_count": 21,
      "metadata": {},
      "outputs": [
        {
          "data": {
            "text/plain": [
              "19909"
            ]
          },
          "execution_count": 21,
          "metadata": {},
          "output_type": "execute_result"
        }
      ],
      "source": [
        "gc.collect()"
      ]
    },
    {
      "cell_type": "code",
      "execution_count": 22,
      "metadata": {},
      "outputs": [
        {
          "name": "stdout",
          "output_type": "stream",
          "text": [
            "Method: umap - n_components: 2\n"
          ]
        }
      ],
      "source": [
        "non_linear_methods = [\"umap\"]\n",
        "n_components_list = [2]\n",
        "\n",
        "df_results_non_linear_methods_umap = get_dimension_reduction_results(non_linear_methods, n_components_list, X_train)"
      ]
    },
    {
      "cell_type": "code",
      "execution_count": null,
      "metadata": {},
      "outputs": [],
      "source": [
        "df_results_non_linear_methods_umap.to_parquet('/home/cristiano/tcc/data/df_results_non_linear_umap.parquet')"
      ]
    },
    {
      "cell_type": "markdown",
      "metadata": {},
      "source": [
        "##### TODO:\n",
        " - ~~Definir estratégia dados nulos~~\n",
        " - ~~Estudar Kernel PCA e o porquê não estamos conseguindo utilizar~~\n",
        " - Gerar resultados métodos lineares novamente\n",
        " - Gerar resultados métodos não lineares\n",
        " - Gerar visualizações para os dados e métricas levantas"
      ]
    },
    {
      "cell_type": "markdown",
      "metadata": {
        "id": "8tGKhswU7-Aq"
      },
      "source": [
        "### Análise de métricas redução de dimensionalidade"
      ]
    },
    {
      "cell_type": "code",
      "execution_count": null,
      "metadata": {
        "id": "E5b-LahZutLC"
      },
      "outputs": [],
      "source": [
        "### verificar dados transformados\n",
        "# X_train_transformed = pipeline.transform(X_train)\n",
        "\n",
        "# column_transformer = pipeline.named_steps['preprocessor']\n",
        "\n",
        "# transformed_columns = column_transformer.get_feature_names_out()\n",
        "\n",
        "# df_transformed = pd.DataFrame(data=X_train_transformed, columns=transformed_columns)\n",
        "\n",
        "# df_transformed = pd.concat([X_train.reset_index(drop=True), df_transformed], axis=1)['transformed_columns']\n",
        "\n",
        "# print(df_transformed.head())"
      ]
    }
  ],
  "metadata": {
    "colab": {
      "provenance": []
    },
    "kernelspec": {
      "display_name": "Python 3",
      "name": "python3"
    },
    "language_info": {
      "codemirror_mode": {
        "name": "ipython",
        "version": 3
      },
      "file_extension": ".py",
      "mimetype": "text/x-python",
      "name": "python",
      "nbconvert_exporter": "python",
      "pygments_lexer": "ipython3",
      "version": "3.11.6"
    }
  },
  "nbformat": 4,
  "nbformat_minor": 0
}
