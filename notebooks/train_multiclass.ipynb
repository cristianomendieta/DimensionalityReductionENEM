{
 "cells": [
  {
   "cell_type": "code",
   "execution_count": 16,
   "metadata": {},
   "outputs": [],
   "source": [
    "import os\n",
    "import pandas as pd\n",
    "os.getcwd()\n",
    "\n",
    "\n",
    "from sklearn.model_selection import KFold\n",
    "from sklearn.model_selection import cross_val_score\n",
    "import numpy as np\n",
    "from sklearn.metrics import f1_score, accuracy_score\n",
    "from sklearn.preprocessing import TargetEncoder, LabelEncoder\n",
    "\n",
    "from sklearn.metrics import accuracy_score, f1_score, precision_score, recall_score, confusion_matrix\n",
    "import pandas as pd\n",
    "import time\n",
    "import pickle\n",
    "from xgboost import XGBClassifier\n",
    "\n",
    "import pandas as pd\n",
    "import time\n",
    "import numpy as np\n",
    "\n",
    "from sklearn.compose import ColumnTransformer\n",
    "from sklearn.pipeline import Pipeline\n",
    "from sklearn.preprocessing import MinMaxScaler, OrdinalEncoder\n",
    "from sklearn.model_selection import train_test_split\n",
    "\n",
    "NUMERIC_COLS = [\n",
    "    \"TP_FAIXA_ETARIA\",\n",
    "    \"TP_ESTADO_CIVIL\",\n",
    "    \"TP_COR_RACA\",\n",
    "    \"TP_NACIONALIDADE\",\n",
    "    \"TP_ST_CONCLUSAO\",\n",
    "    \"TP_ANO_CONCLUIU\",\n",
    "    \"IN_TREINEIRO\",\n",
    "    \"CO_MUNICIPIO_PROVA\",\n",
    "    \"CO_UF_PROVA\",\n",
    "    \"TP_PRESENCA_CN\",\n",
    "    \"TP_PRESENCA_CH\",\n",
    "    \"TP_PRESENCA_LC\",\n",
    "    \"TP_PRESENCA_MT\",\n",
    "    \"NU_NOTA_CN\",\n",
    "    \"NU_NOTA_CH\",\n",
    "    \"NU_NOTA_LC\",\n",
    "    \"NU_NOTA_MT\",\n",
    "    \"TP_LINGUA\",\n",
    "    \"NU_NOTA_REDACAO\",\n",
    "    \"NU_NOTA_COMP1\",\n",
    "    \"NU_NOTA_COMP2\",\n",
    "    \"NU_NOTA_COMP3\",\n",
    "    \"NU_NOTA_COMP4\",\n",
    "    \"NU_NOTA_COMP5\",\n",
    "    \"TP_ESCOLA\"\n",
    "]\n",
    "\n",
    "CATEGORICAL_COLS = [\n",
    "    \"TP_SEXO\",\n",
    "    \"Q001\",\n",
    "    \"Q002\",\n",
    "    \"Q003\",\n",
    "    \"Q004\",faixa_renda_familiar\n",
    "    \"Q012\",\n",
    "    \"Q013\",\n",
    "    \"Q014\",\n",
    "    \"Q015\",\n",
    "    \"Q016\",\n",
    "    \"Q017\",\n",
    "    \"Q018\",\n",
    "    \"Q019\",\n",
    "    \"Q020\",\n",
    "    \"Q021\",\n",
    "    \"Q022\",\n",
    "    \"Q023\",\n",
    "    \"Q024\",\n",
    "    \"Q025\",\n",
    "    \"NO_MUNICIPIO_PROVA\",\n",
    "    \"TP_STATUS_REDACAO\",\n",
    "    \"SG_UF_PROVA\"\n",
    "]\n",
    "\n",
    "\n",
    "def generate_pipeline():\n",
    "    numeric_transformer = Pipeline(steps=[(\"scaler\", MinMaxScaler())])\n",
    "\n",
    "    categorical_transformer = Pipeline(steps=[(\"encoder\", OrdinalEncoder())])\n",
    "\n",
    "    preprocessor = ColumnTransformer(\n",
    "        transformers=[\n",
    "            (\"num\", numeric_transformer, NUMERIC_COLS),\n",
    "            (\"cat\", categorical_transformer, CATEGORICAL_COLS),\n",
    "        ]\n",
    "    )\n",
    "\n",
    "    return Pipeline(steps=[(\"preprocessor\", preprocessor)])\n"
   ]
  },
  {
   "cell_type": "code",
   "execution_count": 2,
   "metadata": {},
   "outputs": [],
   "source": [
    "df_microdados = pd.read_parquet('../../tcc-results/data-results/data_prepared_enem_2022.parquet')"
   ]
  },
  {
   "cell_type": "code",
   "execution_count": 3,
   "metadata": {},
   "outputs": [
    {
     "data": {
      "text/plain": [
       "(3476105, 54)"
      ]
     },
     "execution_count": 3,
     "metadata": {},
     "output_type": "execute_result"
    }
   ],
   "source": [
    "df_microdados.shape "
   ]
  },
  {
   "cell_type": "code",
   "execution_count": 4,
   "metadata": {},
   "outputs": [
    {
     "data": {
      "text/plain": [
       "0          B\n",
       "1          Q\n",
       "2          B\n",
       "3          A\n",
       "4          B\n",
       "          ..\n",
       "3476100    F\n",
       "3476101    B\n",
       "3476102    G\n",
       "3476103    E\n",
       "3476104    B\n",
       "Name: faixa_renda_familiar, Length: 3476105, dtype: object"
      ]
     },
     "execution_count": 4,
     "metadata": {},
     "output_type": "execute_result"
    }
   ],
   "source": [
    "df_microdados['faixa_renda_familiar']"
   ]
  },
  {
   "cell_type": "code",
   "execution_count": 5,
   "metadata": {},
   "outputs": [],
   "source": [
    "map_renda = {\n",
    "    \"A\": [\"P\", \"Q\"], # 15 A 25 SALÁRIOS\n",
    "    \"B\": [\"N\", \"O\"], # 10 A 15 SALÁRIOS\n",
    "    \"C\": [\"J\", \"K\", \"L\", \"M\"], # 5 A 10 SALÁRIOS\n",
    "    \"D\": [\"E\", \"F\", \"G\", \"H\", \"I\"], # 2 A 5 SALÁRIOS\n",
    "    \"E\":  [\"A\", \"B\", \"C\"], # ATÉ 2 SALÁRIOS\n",
    "}"
   ]
  },
  {
   "cell_type": "code",
   "execution_count": 6,
   "metadata": {},
   "outputs": [],
   "source": [
    "# Função para fazer o mapeamento inverso\n",
    "def map_values(value, mapping):\n",
    "    for key, values in mapping.items():\n",
    "        if value in values:\n",
    "            return key\n",
    "    return value"
   ]
  },
  {
   "cell_type": "code",
   "execution_count": 7,
   "metadata": {},
   "outputs": [],
   "source": [
    "# Aplicar a função de mapeamento na coluna do DataFrame\n",
    "df_microdados['faixa_renda_familiar'] = df_microdados['faixa_renda_familiar'].apply(map_values, mapping=map_renda)"
   ]
  },
  {
   "cell_type": "code",
   "execution_count": 8,
   "metadata": {},
   "outputs": [
    {
     "data": {
      "text/plain": [
       "faixa_renda_familiar\n",
       "E    1811622\n",
       "D    1311047\n",
       "C     193806\n",
       "A      85772\n",
       "B      73858\n",
       "Name: count, dtype: int64"
      ]
     },
     "execution_count": 8,
     "metadata": {},
     "output_type": "execute_result"
    }
   ],
   "source": [
    "df_microdados['faixa_renda_familiar'].value_counts()"
   ]
  },
  {
   "cell_type": "code",
   "execution_count": 9,
   "metadata": {},
   "outputs": [
    {
     "data": {
      "text/plain": [
       "0    E\n",
       "1    A\n",
       "2    E\n",
       "3    E\n",
       "4    E\n",
       "Name: faixa_renda_familiar, dtype: object"
      ]
     },
     "execution_count": 9,
     "metadata": {},
     "output_type": "execute_result"
    }
   ],
   "source": [
    "df_microdados['faixa_renda_familiar'].head(5)"
   ]
  },
  {
   "cell_type": "code",
   "execution_count": 10,
   "metadata": {},
   "outputs": [
    {
     "data": {
      "text/plain": [
       "0    E\n",
       "1    A\n",
       "2    E\n",
       "3    E\n",
       "4    E\n",
       "Name: faixa_renda_familiar, dtype: object"
      ]
     },
     "execution_count": 10,
     "metadata": {},
     "output_type": "execute_result"
    }
   ],
   "source": [
    "df_microdados['faixa_renda_familiar'].head(5)"
   ]
  },
  {
   "cell_type": "code",
   "execution_count": 11,
   "metadata": {},
   "outputs": [],
   "source": [
    "def encode_target(y):\n",
    "    encoder = LabelEncoder()\n",
    "    y_encoded = encoder.fit_transform(y)\n",
    "    return y_encoded, encoder"
   ]
  },
  {
   "cell_type": "code",
   "execution_count": 12,
   "metadata": {},
   "outputs": [],
   "source": [
    "X = df_microdados.drop('faixa_renda_familiar', axis=1)\n",
    "y = df_microdados['faixa_renda_familiar']\n",
    "y_encoded, encoder = encode_target(y)"
   ]
  },
  {
   "cell_type": "code",
   "execution_count": 13,
   "metadata": {},
   "outputs": [
    {
     "data": {
      "text/plain": [
       "array([0, 1, 2, 3, 4])"
      ]
     },
     "execution_count": 13,
     "metadata": {},
     "output_type": "execute_result"
    }
   ],
   "source": [
    "# unique valus from np.array\n",
    "np.unique(y_encoded)"
   ]
  },
  {
   "cell_type": "code",
   "execution_count": 14,
   "metadata": {},
   "outputs": [],
   "source": [
    "X_train, X_test, y_train, y_test = train_test_split(X, y_encoded, test_size=0.2, random_state=42)"
   ]
  },
  {
   "cell_type": "code",
   "execution_count": 15,
   "metadata": {},
   "outputs": [
    {
     "name": "stdout",
     "output_type": "stream",
     "text": [
      "Tempo de treinamento: 195.57483053207397\n",
      "Accuracy médio na validação cruzada: 0.736918188795372\n",
      "Accuracy no conjunto de teste: 0.7362263222773765\n",
      "F1 Score no conjunto de teste: 0.7238712347173145\n",
      "Precision no conjunto de teste: 0.7191051724587\n"
     ]
    }
   ],
   "source": [
    "model = XGBClassifier(n_estimators=400, objective = 'multi:softmax', num_class = 5, eval_metric='logloss', n_jobs=-1)\n",
    "\n",
    "k_folds = 5\n",
    "\n",
    "pipe = generate_pipeline()\n",
    "            \n",
    "X_train_method = pipe.fit_transform(X_train)\n",
    "X_test_transformed = pipe.transform(X_test)\n",
    "\n",
    "kf = KFold(n_splits=k_folds, shuffle=True)\n",
    "cv_results = cross_val_score(model, X_train_method, y_train, cv=kf)\n",
    "\n",
    "# get training time\n",
    "start_time = time.time()\n",
    "model.fit(X_train_method, y_train)\n",
    "end_time = time.time()\n",
    "\n",
    "# save model\n",
    "with open(f'/home/cristiano/ufpr/tcc/multiclasse/baseline/modelos/multiclass_baseline_without_scaler.pkl', 'wb') as file:\n",
    "    pickle.dump(model, file)\n",
    "\n",
    "training_time = end_time - start_time\n",
    "print(\"Tempo de treinamento:\", training_time)\n",
    "\n",
    "y_predicted = model.predict(X_test_transformed)\n",
    "\n",
    "# get classification metrics\n",
    "test_accuracy = accuracy_score(y_test, y_predicted)\n",
    "test_f1_score = f1_score(y_test, y_predicted, average='weighted')\n",
    "test_precision = precision_score(y_test, y_predicted, average='weighted')\n",
    "test_recall = recall_score(y_test, y_predicted, average='weighted')\n",
    "\n",
    "print(\"Accuracy médio na validação cruzada:\", np.mean(cv_results))\n",
    "print(\"Accuracy no conjunto de teste:\", test_accuracy)\n",
    "\n",
    "print(\"F1 Score no conjunto de teste:\", test_f1_score)\n",
    "print(\"Precision no conjunto de teste:\", test_precision)"
   ]
  },
  {
   "cell_type": "markdown",
   "metadata": {},
   "source": [
    "### Validating Model"
   ]
  },
  {
   "cell_type": "code",
   "execution_count": 15,
   "metadata": {},
   "outputs": [],
   "source": [
    "import pickle\n",
    "\n",
    "with open(f'/home/cristiano/ufpr/tcc/multiclasse/baseline/modelos/multiclass_baseline.pkl', 'rb') as file:\n",
    "    model = pickle.load(file)"
   ]
  },
  {
   "cell_type": "code",
   "execution_count": 18,
   "metadata": {},
   "outputs": [],
   "source": [
    "pipe = generate_pipeline()\n",
    "            \n",
    "X_train_method = pipe.fit_transform(X_train)\n",
    "X_test_transformed = pipe.transform(X_test)\n",
    "\n",
    "y_predicted = model.predict(X_test_transformed)"
   ]
  },
  {
   "cell_type": "code",
   "execution_count": 20,
   "metadata": {},
   "outputs": [
    {
     "data": {
      "image/png": "[encoded data removed]",
      "text/plain": [
       "<Figure size 640x480 with 2 Axes>"
      ]
     },
     "metadata": {},
     "output_type": "display_data"
    }
   ],
   "source": [
    "import numpy as np\n",
    "import matplotlib.pyplot as plt\n",
    "from sklearn.metrics import confusion_matrix, ConfusionMatrixDisplay\n",
    "\n",
    "cm = confusion_matrix(y_test, y_predicted)\n",
    "\n",
    "\n",
    "disp = ConfusionMatrixDisplay(confusion_matrix=cm)\n",
    "disp.plot(cmap=plt.cm.Blues)\n",
    "plt.show()"
   ]
  },
  {
   "cell_type": "code",
   "execution_count": 22,
   "metadata": {},
   "outputs": [],
   "source": [
    "# !pip install shap"
   ]
  },
  {
   "cell_type": "code",
   "execution_count": 24,
   "metadata": {},
   "outputs": [],
   "source": [
    "import shap\n",
    "# Criar o explicador SHAP\n",
    "explainer = shap.TreeExplainer(model)\n",
    "\n",
    "# Calcular os valores SHAP para os dados de teste\n",
    "shap_values = explainer.shap_values(X_test_transformed)"
   ]
  },
  {
   "cell_type": "code",
   "execution_count": null,
   "metadata": {},
   "outputs": [],
   "source": [
    "shap.summary_plot(shap_values, X_test_transformed)"
   ]
  },
  {
   "cell_type": "code",
   "execution_count": null,
   "metadata": {},
   "outputs": [],
   "source": [
    "# Summary Plot\n",
    "shap.summary_plot(shap_values[1], X_test_transformed)"
   ]
  },
  {
   "cell_type": "code",
   "execution_count": null,
   "metadata": {},
   "outputs": [],
   "source": [
    "# Dependence Plot para uma feature específica\n",
    "shap.dependence_plot(0, shap_values[1], X_test_transformed)"
   ]
  },
  {
   "cell_type": "code",
   "execution_count": null,
   "metadata": {},
   "outputs": [],
   "source": [
    "#### com normalização\n",
    "# Tempo de treinamento: 295.15193915367126\n",
    "# Accuracy médio na validação cruzada: 0.7431967675274481\n",
    "# Accuracy no conjunto de teste: 0.7423351711182488\n",
    "# F1 Score no conjunto de teste: 0.7308591881595554\n",
    "# Precision no conjunto de teste: 0.7258877933685033"
   ]
  }
 ],
 "metadata": {
  "kernelspec": {
   "display_name": "tcc",
   "language": "python",
   "name": "python3"
  },
  "language_info": {
   "codemirror_mode": {
    "name": "ipython",
    "version": 3
   },
   "file_extension": ".py",
   "mimetype": "text/x-python",
   "name": "python",
   "nbconvert_exporter": "python",
   "pygments_lexer": "ipython3",
   "version": "3.11.6"
  }
 },
 "nbformat": 4,
 "nbformat_minor": 2
}
