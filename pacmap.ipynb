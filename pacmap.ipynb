{
 "cells": [
  {
   "cell_type": "code",
   "execution_count": 2,
   "metadata": {},
   "outputs": [
    {
     "name": "stdout",
     "output_type": "stream",
     "text": [
      "(1317560, 54)\n"
     ]
    }
   ],
   "source": [
    "import pandas as pd\n",
    "\n",
    "from sklearn.model_selection import KFold\n",
    "from sklearn.model_selection import cross_val_score\n",
    "import numpy as np\n",
    "from sklearn.metrics import f1_score, accuracy_score\n",
    "from sklearn.preprocessing import TargetEncoder\n",
    "from sklearn.preprocessing import FunctionTransformer\n",
    "from sklearn.base import BaseEstimator, TransformerMixin\n",
    "\n",
    "from sklearn.metrics import accuracy_score, f1_score, precision_score, recall_score, confusion_matrix\n",
    "import pandas as pd\n",
    "import time\n",
    "import pickle\n",
    "from xgboost import XGBClassifier\n",
    "\n",
    "import pandas as pd\n",
    "import time\n",
    "import numpy as np\n",
    "\n",
    "from sklearn.compose import ColumnTransformer\n",
    "from sklearn.decomposition import PCA, TruncatedSVD, FastICA\n",
    "from sklearn.manifold import TSNE\n",
    "from sklearn.pipeline import Pipeline\n",
    "from sklearn.preprocessing import MinMaxScaler, OrdinalEncoder\n",
    "import pacmap\n",
    "from sklearn.model_selection import train_test_split\n",
    "\n",
    "\n",
    "NUMERIC_COLS = [\n",
    "    \"TP_FAIXA_ETARIA\",\n",
    "    \"TP_ESTADO_CIVIL\",\n",
    "    \"TP_COR_RACA\",\n",
    "    \"TP_NACIONALIDADE\",\n",
    "    \"TP_ST_CONCLUSAO\",\n",
    "    \"TP_ANO_CONCLUIU\",\n",
    "    \"IN_TREINEIRO\",\n",
    "    \"CO_MUNICIPIO_PROVA\",\n",
    "    \"CO_UF_PROVA\",\n",
    "    \"TP_PRESENCA_CN\",\n",
    "    \"TP_PRESENCA_CH\",\n",
    "    \"TP_PRESENCA_LC\",\n",
    "    \"TP_PRESENCA_MT\",\n",
    "    \"NU_NOTA_CN\",\n",
    "    \"NU_NOTA_CH\",\n",
    "    \"NU_NOTA_LC\",\n",
    "    \"NU_NOTA_MT\",\n",
    "    \"TP_LINGUA\",\n",
    "    \"NU_NOTA_REDACAO\",\n",
    "    \"NU_NOTA_COMP1\",\n",
    "    \"NU_NOTA_COMP2\",\n",
    "    \"NU_NOTA_COMP3\",\n",
    "    \"NU_NOTA_COMP4\",\n",
    "    \"NU_NOTA_COMP5\"\n",
    "]\n",
    "\n",
    "CATEGORICAL_COLS = [\n",
    "    \"TP_SEXO\",\n",
    "    \"Q001\",\n",
    "    \"Q002\",\n",
    "    \"Q003\",\n",
    "    \"Q004\",\n",
    "    \"Q007\",\n",
    "    \"Q008\",\n",
    "    \"Q009\",\n",
    "    \"Q010\",\n",
    "    \"Q011\",\n",
    "    \"Q012\",\n",
    "    \"Q013\",\n",
    "    \"Q014\",\n",
    "    \"Q015\",\n",
    "    \"Q016\",\n",
    "    \"Q017\",\n",
    "    \"Q018\",\n",
    "    \"Q019\",\n",
    "    \"Q020\",\n",
    "    \"Q021\",\n",
    "    \"Q022\",\n",
    "    \"Q023\",\n",
    "    \"Q024\",\n",
    "    \"Q025\",\n",
    "    \"NO_MUNICIPIO_PROVA\",\n",
    "    \"TP_STATUS_REDACAO\",\n",
    "    \"SG_UF_PROVA\",\n",
    "    \"faixa_renda_familiar\"\n",
    "]\n",
    "\n",
    "\n",
    "data_enem_binary_classifier = pd.read_parquet(\"../tcc-results/data-results/data_prepared_enem_2022.parquet\")\n",
    "data_enem_binary_classifier = data_enem_binary_classifier.loc[data_enem_binary_classifier[\"TP_ESCOLA\"] != 1]\n",
    "print(data_enem_binary_classifier.shape)\n",
    "\n",
    "X = data_enem_binary_classifier.drop('TP_ESCOLA', axis=1)\n",
    "y = data_enem_binary_classifier['TP_ESCOLA']\n",
    "\n",
    "# replace target values [2, 3] to [0, 1]\n",
    "y = y.replace({2: 0, 3: 1})"
   ]
  },
  {
   "cell_type": "code",
   "execution_count": 3,
   "metadata": {},
   "outputs": [],
   "source": [
    "X_train, X_test, y_train, y_test = train_test_split(X, y, test_size=0.2, random_state=42)"
   ]
  },
  {
   "cell_type": "code",
   "execution_count": 4,
   "metadata": {},
   "outputs": [],
   "source": [
    "categorical_transformer = Pipeline(steps=[(\"encoder\", TargetEncoder(smooth=\"auto\"))])\n",
    "preprocessor = ColumnTransformer(\n",
    "        transformers=[\n",
    "            # (\"num\", numeric_transformer, NUMERIC_COLS),\n",
    "            (\"cat\", categorical_transformer, CATEGORICAL_COLS),\n",
    "        ]\n",
    "    )"
   ]
  },
  {
   "cell_type": "code",
   "execution_count": 5,
   "metadata": {},
   "outputs": [],
   "source": [
    "X_train_method_preprocessed = preprocessor.fit_transform(X_train, y_train)"
   ]
  },
  {
   "cell_type": "code",
   "execution_count": 8,
   "metadata": {},
   "outputs": [
    {
     "ename": "KeyboardInterrupt",
     "evalue": "",
     "output_type": "error",
     "traceback": [
      "\u001b[0;31m---------------------------------------------------------------------------\u001b[0m",
      "\u001b[0;31mKeyboardInterrupt\u001b[0m                         Traceback (most recent call last)",
      "Cell \u001b[0;32mIn[8], line 4\u001b[0m\n\u001b[1;32m      1\u001b[0m embedding \u001b[38;5;241m=\u001b[39m pacmap\u001b[38;5;241m.\u001b[39mPaCMAP(n_components\u001b[38;5;241m=\u001b[39m\u001b[38;5;241m2\u001b[39m) \n\u001b[1;32m      3\u001b[0m \u001b[38;5;66;03m# fit the data (The index of transformed data corresponds to the index of the original data)\u001b[39;00m\n\u001b[0;32m----> 4\u001b[0m X_transformed \u001b[38;5;241m=\u001b[39m \u001b[43membedding\u001b[49m\u001b[38;5;241;43m.\u001b[39;49m\u001b[43mfit_transform\u001b[49m\u001b[43m(\u001b[49m\u001b[43mX_train_method_preprocessed\u001b[49m\u001b[43m)\u001b[49m\n",
      "File \u001b[0;32m~/envs/tcc/lib/python3.11/site-packages/pacmap/pacmap.py:952\u001b[0m, in \u001b[0;36mPaCMAP.fit_transform\u001b[0;34m(self, X, init, save_pairs)\u001b[0m\n\u001b[1;32m    934\u001b[0m \u001b[38;5;28;01mdef\u001b[39;00m \u001b[38;5;21mfit_transform\u001b[39m(\u001b[38;5;28mself\u001b[39m, X, init\u001b[38;5;241m=\u001b[39m\u001b[38;5;28;01mNone\u001b[39;00m, save_pairs\u001b[38;5;241m=\u001b[39m\u001b[38;5;28;01mTrue\u001b[39;00m):\n\u001b[1;32m    935\u001b[0m \u001b[38;5;250m    \u001b[39m\u001b[38;5;124;03m'''Projects a high dimensional dataset into a low-dimensional embedding and return the embedding.\u001b[39;00m\n\u001b[1;32m    936\u001b[0m \n\u001b[1;32m    937\u001b[0m \u001b[38;5;124;03m    Parameters\u001b[39;00m\n\u001b[0;32m   (...)\u001b[0m\n\u001b[1;32m    949\u001b[0m \u001b[38;5;124;03m        Whether to save the pairs that are sampled from the dataset. Useful for reproducing results.\u001b[39;00m\n\u001b[1;32m    950\u001b[0m \u001b[38;5;124;03m    '''\u001b[39;00m\n\u001b[0;32m--> 952\u001b[0m     \u001b[38;5;28;43mself\u001b[39;49m\u001b[38;5;241;43m.\u001b[39;49m\u001b[43mfit\u001b[49m\u001b[43m(\u001b[49m\u001b[43mX\u001b[49m\u001b[43m,\u001b[49m\u001b[43m \u001b[49m\u001b[43minit\u001b[49m\u001b[43m,\u001b[49m\u001b[43m \u001b[49m\u001b[43msave_pairs\u001b[49m\u001b[43m)\u001b[49m\n\u001b[1;32m    953\u001b[0m     \u001b[38;5;28;01mif\u001b[39;00m \u001b[38;5;28mself\u001b[39m\u001b[38;5;241m.\u001b[39mintermediate:\n\u001b[1;32m    954\u001b[0m         \u001b[38;5;28;01mreturn\u001b[39;00m \u001b[38;5;28mself\u001b[39m\u001b[38;5;241m.\u001b[39mintermediate_states\n",
      "File \u001b[0;32m~/envs/tcc/lib/python3.11/site-packages/pacmap/pacmap.py:915\u001b[0m, in \u001b[0;36mPaCMAP.fit\u001b[0;34m(self, X, init, save_pairs)\u001b[0m\n\u001b[1;32m    913\u001b[0m \u001b[38;5;28mself\u001b[39m\u001b[38;5;241m.\u001b[39mnum_dimensions \u001b[38;5;241m=\u001b[39m X\u001b[38;5;241m.\u001b[39mshape[\u001b[38;5;241m1\u001b[39m]\n\u001b[1;32m    914\u001b[0m \u001b[38;5;66;03m# Initialize and Optimize the embedding\u001b[39;00m\n\u001b[0;32m--> 915\u001b[0m \u001b[38;5;28mself\u001b[39m\u001b[38;5;241m.\u001b[39membedding_, \u001b[38;5;28mself\u001b[39m\u001b[38;5;241m.\u001b[39mintermediate_states, \u001b[38;5;28mself\u001b[39m\u001b[38;5;241m.\u001b[39mpair_neighbors, \u001b[38;5;28mself\u001b[39m\u001b[38;5;241m.\u001b[39mpair_MN, \u001b[38;5;28mself\u001b[39m\u001b[38;5;241m.\u001b[39mpair_FP \u001b[38;5;241m=\u001b[39m \u001b[43mpacmap\u001b[49m\u001b[43m(\u001b[49m\n\u001b[1;32m    916\u001b[0m \u001b[43m    \u001b[49m\u001b[43mX\u001b[49m\u001b[43m,\u001b[49m\n\u001b[1;32m    917\u001b[0m \u001b[43m    \u001b[49m\u001b[38;5;28;43mself\u001b[39;49m\u001b[38;5;241;43m.\u001b[39;49m\u001b[43mn_components\u001b[49m\u001b[43m,\u001b[49m\n\u001b[1;32m    918\u001b[0m \u001b[43m    \u001b[49m\u001b[38;5;28;43mself\u001b[39;49m\u001b[38;5;241;43m.\u001b[39;49m\u001b[43mpair_neighbors\u001b[49m\u001b[43m,\u001b[49m\n\u001b[1;32m    919\u001b[0m \u001b[43m    \u001b[49m\u001b[38;5;28;43mself\u001b[39;49m\u001b[38;5;241;43m.\u001b[39;49m\u001b[43mpair_MN\u001b[49m\u001b[43m,\u001b[49m\n\u001b[1;32m    920\u001b[0m \u001b[43m    \u001b[49m\u001b[38;5;28;43mself\u001b[39;49m\u001b[38;5;241;43m.\u001b[39;49m\u001b[43mpair_FP\u001b[49m\u001b[43m,\u001b[49m\n\u001b[1;32m    921\u001b[0m \u001b[43m    \u001b[49m\u001b[38;5;28;43mself\u001b[39;49m\u001b[38;5;241;43m.\u001b[39;49m\u001b[43mlr\u001b[49m\u001b[43m,\u001b[49m\n\u001b[1;32m    922\u001b[0m \u001b[43m    \u001b[49m\u001b[38;5;28;43mself\u001b[39;49m\u001b[38;5;241;43m.\u001b[39;49m\u001b[43mnum_iters\u001b[49m\u001b[43m,\u001b[49m\n\u001b[1;32m    923\u001b[0m \u001b[43m    \u001b[49m\u001b[43minit\u001b[49m\u001b[43m,\u001b[49m\n\u001b[1;32m    924\u001b[0m \u001b[43m    \u001b[49m\u001b[38;5;28;43mself\u001b[39;49m\u001b[38;5;241;43m.\u001b[39;49m\u001b[43mverbose\u001b[49m\u001b[43m,\u001b[49m\n\u001b[1;32m    925\u001b[0m \u001b[43m    \u001b[49m\u001b[38;5;28;43mself\u001b[39;49m\u001b[38;5;241;43m.\u001b[39;49m\u001b[43mintermediate\u001b[49m\u001b[43m,\u001b[49m\n\u001b[1;32m    926\u001b[0m \u001b[43m    \u001b[49m\u001b[38;5;28;43mself\u001b[39;49m\u001b[38;5;241;43m.\u001b[39;49m\u001b[43mintermediate_snapshots\u001b[49m\u001b[43m,\u001b[49m\n\u001b[1;32m    927\u001b[0m \u001b[43m    \u001b[49m\u001b[43mpca_solution\u001b[49m\u001b[43m,\u001b[49m\n\u001b[1;32m    928\u001b[0m \u001b[43m    \u001b[49m\u001b[38;5;28;43mself\u001b[39;49m\u001b[38;5;241;43m.\u001b[39;49m\u001b[43mtsvd_transformer\u001b[49m\n\u001b[1;32m    929\u001b[0m \u001b[43m\u001b[49m\u001b[43m)\u001b[49m\n\u001b[1;32m    930\u001b[0m \u001b[38;5;28;01mif\u001b[39;00m \u001b[38;5;129;01mnot\u001b[39;00m save_pairs:\n\u001b[1;32m    931\u001b[0m     \u001b[38;5;28mself\u001b[39m\u001b[38;5;241m.\u001b[39mdel_pairs()\n",
      "File \u001b[0;32m~/envs/tcc/lib/python3.11/site-packages/pacmap/pacmap.py:575\u001b[0m, in \u001b[0;36mpacmap\u001b[0;34m(X, n_dims, pair_neighbors, pair_MN, pair_FP, lr, num_iters, Yinit, verbose, intermediate, inter_snapshots, pca_solution, tsvd)\u001b[0m\n\u001b[1;32m    572\u001b[0m \u001b[38;5;28;01mfor\u001b[39;00m itr \u001b[38;5;129;01min\u001b[39;00m \u001b[38;5;28mrange\u001b[39m(num_iters):\n\u001b[1;32m    573\u001b[0m     w_MN, w_neighbors, w_FP \u001b[38;5;241m=\u001b[39m find_weight(w_MN_init, itr)\n\u001b[0;32m--> 575\u001b[0m     grad \u001b[38;5;241m=\u001b[39m \u001b[43mpacmap_grad\u001b[49m\u001b[43m(\u001b[49m\u001b[43mY\u001b[49m\u001b[43m,\u001b[49m\u001b[43m \u001b[49m\u001b[43mpair_neighbors\u001b[49m\u001b[43m,\u001b[49m\u001b[43m \u001b[49m\u001b[43mpair_MN\u001b[49m\u001b[43m,\u001b[49m\n\u001b[1;32m    576\u001b[0m \u001b[43m                       \u001b[49m\u001b[43mpair_FP\u001b[49m\u001b[43m,\u001b[49m\u001b[43m \u001b[49m\u001b[43mw_neighbors\u001b[49m\u001b[43m,\u001b[49m\u001b[43m \u001b[49m\u001b[43mw_MN\u001b[49m\u001b[43m,\u001b[49m\u001b[43m \u001b[49m\u001b[43mw_FP\u001b[49m\u001b[43m)\u001b[49m\n\u001b[1;32m    577\u001b[0m     C \u001b[38;5;241m=\u001b[39m grad[\u001b[38;5;241m-\u001b[39m\u001b[38;5;241m1\u001b[39m, \u001b[38;5;241m0\u001b[39m]\n\u001b[1;32m    578\u001b[0m     \u001b[38;5;28;01mif\u001b[39;00m verbose \u001b[38;5;129;01mand\u001b[39;00m itr \u001b[38;5;241m==\u001b[39m \u001b[38;5;241m0\u001b[39m:\n",
      "File \u001b[0;32m~/envs/tcc/lib/python3.11/site-packages/numba/core/serialize.py:30\u001b[0m, in \u001b[0;36m_numba_unpickle\u001b[0;34m(address, bytedata, hashed)\u001b[0m\n\u001b[1;32m     26\u001b[0m \u001b[38;5;66;03m# Keep unpickled object via `numba_unpickle` alive.\u001b[39;00m\n\u001b[1;32m     27\u001b[0m _unpickled_memo \u001b[38;5;241m=\u001b[39m {}\n\u001b[0;32m---> 30\u001b[0m \u001b[38;5;28;01mdef\u001b[39;00m \u001b[38;5;21m_numba_unpickle\u001b[39m(address, bytedata, hashed):\n\u001b[1;32m     31\u001b[0m \u001b[38;5;250m    \u001b[39m\u001b[38;5;124;03m\"\"\"Used by `numba_unpickle` from _helperlib.c\u001b[39;00m\n\u001b[1;32m     32\u001b[0m \n\u001b[1;32m     33\u001b[0m \u001b[38;5;124;03m    Parameters\u001b[39;00m\n\u001b[0;32m   (...)\u001b[0m\n\u001b[1;32m     42\u001b[0m \u001b[38;5;124;03m        unpickled object\u001b[39;00m\n\u001b[1;32m     43\u001b[0m \u001b[38;5;124;03m    \"\"\"\u001b[39;00m\n\u001b[1;32m     44\u001b[0m     key \u001b[38;5;241m=\u001b[39m (address, hashed)\n",
      "\u001b[0;31mKeyboardInterrupt\u001b[0m: "
     ]
    }
   ],
   "source": [
    "embedding = pacmap.PaCMAP(n_components=2) \n",
    "\n",
    "# fit the data (The index of transformed data corresponds to the index of the original data)\n",
    "X_transformed = embedding.fit_transform(X_train_method_preprocessed)"
   ]
  },
  {
   "cell_type": "code",
   "execution_count": 6,
   "metadata": {},
   "outputs": [
    {
     "data": {
      "text/plain": [
       "array([[0.18224052, 0.09266196, 0.01301788, ..., 0.20925226, 0.15528214,\n",
       "        0.02165839],\n",
       "       [0.18224052, 0.05328769, 0.02875873, ..., 0.03732049, 0.16823262,\n",
       "        0.37331645],\n",
       "       [0.14627139, 0.02424666, 0.13515365, ..., 0.20920372, 0.10392843,\n",
       "        0.15160728],\n",
       "       ...,\n",
       "       [0.14622596, 0.05995343, 0.0475503 , ..., 0.20925226, 0.06975623,\n",
       "        0.02165839],\n",
       "       [0.14645969, 0.17555926, 0.38974955, ..., 0.20915589, 0.2427706 ,\n",
       "        0.05581272],\n",
       "       [0.14622596, 0.05995343, 0.02875873, ..., 0.20925226, 0.16889585,\n",
       "        0.02165839]])"
      ]
     },
     "execution_count": 6,
     "metadata": {},
     "output_type": "execute_result"
    }
   ],
   "source": [
    "X_train_method_preprocessed"
   ]
  },
  {
   "cell_type": "code",
   "execution_count": null,
   "metadata": {},
   "outputs": [],
   "source": [
    "X_test_transformed = preprocessor.transform(X_test)"
   ]
  }
 ],
 "metadata": {
  "kernelspec": {
   "display_name": "tcc",
   "language": "python",
   "name": "python3"
  },
  "language_info": {
   "codemirror_mode": {
    "name": "ipython",
    "version": 3
   },
   "file_extension": ".py",
   "mimetype": "text/x-python",
   "name": "python",
   "nbconvert_exporter": "python",
   "pygments_lexer": "ipython3",
   "version": "3.11.6"
  }
 },
 "nbformat": 4,
 "nbformat_minor": 2
}
