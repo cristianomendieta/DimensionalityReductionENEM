{
 "cells": [
  {
   "cell_type": "code",
   "execution_count": null,
   "metadata": {},
   "outputs": [],
   "source": [
    "# from sklearn.datasets import make_classification\n",
    "from sklearn.model_selection import train_test_split\n",
    "from sklearn.feature_selection import RFE\n",
    "from sklearn.metrics import accuracy_score\n",
    "from xgboost import XGBClassifier\n",
    "import time\n",
    "\n",
    "\n",
    "# Split the data into train and test sets\n",
    "X_train, X_test, y_train, y_test = train_test_split(X, y, test_size=0.2, random_state=42)\n",
    "\n",
    "# Initialize an XGBoost model and an RFE object\n",
    "model = XGBClassifier(random_state=42)\n",
    "rfe = RFE(estimator=model, n_features_to_select=20)\n",
    "\n",
    "# Fit the RFE object with the XGBoost model and the training data\n",
    "rfe.fit(X_train, y_train)\n",
    "\n",
    "# Train an XGBoost model with all features\n",
    "start_time = time.perf_counter()\n",
    "model_all = XGBClassifier(random_state=42)\n",
    "model_all.fit(X_train, y_train)\n",
    "all_features_time = time.perf_counter() - start_time\n",
    "\n",
    "# Train an XGBoost model with the selected features from RFE\n",
    "start_time = time.perf_counter()\n",
    "model_selected = XGBClassifier(random_state=42)\n",
    "model_selected.fit(X_train[:, rfe.support_], y_train)\n",
    "selected_features_time = time.perf_counter() - start_time\n",
    "\n",
    "# Make predictions on the test set with both models\n",
    "y_pred_all = model_all.predict(X_test)\n",
    "y_pred_selected = model_selected.predict(X_test[:, rfe.support_])\n",
    "\n",
    "# Compare the performance of the models\n",
    "accuracy_all = accuracy_score(y_test, y_pred_all)\n",
    "accuracy_selected = accuracy_score(y_test, y_pred_selected)\n",
    "\n",
    "print(f\"Accuracy with all features: {accuracy_all:.4f}\")\n",
    "print(f\"Accuracy with selected features: {accuracy_selected:.4f}\")\n",
    "print(f\"Training time with all features: {all_features_time:.2f} seconds\")\n",
    "print(f\"Training time with selected features: {selected_features_time:.2f} seconds\")"
   ]
  }
 ],
 "metadata": {
  "language_info": {
   "name": "python"
  }
 },
 "nbformat": 4,
 "nbformat_minor": 2
}
